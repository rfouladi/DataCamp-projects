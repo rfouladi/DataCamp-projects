To better understand the growth and impact of Bitcoin and other cryptocurrencies, in this project, we explore the market capitalization of different cryptocurrencies.
